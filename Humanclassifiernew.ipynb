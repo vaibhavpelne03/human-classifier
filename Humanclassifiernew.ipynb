{
 "cells": [
  {
   "cell_type": "code",
   "execution_count": 1,
   "metadata": {},
   "outputs": [
    {
     "name": "stderr",
     "output_type": "stream",
     "text": [
      "/home/rajesh/anaconda3/lib/python3.6/site-packages/h5py/__init__.py:36: FutureWarning: Conversion of the second argument of issubdtype from `float` to `np.floating` is deprecated. In future, it will be treated as `np.float64 == np.dtype(float).type`.\n",
      "  from ._conv import register_converters as _register_converters\n",
      "Using TensorFlow backend.\n"
     ]
    }
   ],
   "source": [
    "from keras.models import Sequential\n",
    "from keras.layers import Conv2D\n",
    "from keras.layers import MaxPooling2D\n",
    "from keras.layers import Flatten\n",
    "from keras.layers import Dense"
   ]
  },
  {
   "cell_type": "code",
   "execution_count": 2,
   "metadata": {},
   "outputs": [],
   "source": [
    "#initialiseing the CNN\n",
    "classifier = Sequential()"
   ]
  },
  {
   "cell_type": "code",
   "execution_count": null,
   "metadata": {},
   "outputs": [],
   "source": [
    "#if image size requird then use this parameter \n",
    "# img_width = 256\n",
    "# img_height = 256"
   ]
  },
  {
   "cell_type": "code",
   "execution_count": 3,
   "metadata": {},
   "outputs": [],
   "source": [
    "classifier.add(Conv2D( 32,(3,3), input_shape=( 64, 64, 3 ), activation = 'relu'))\n",
    "\n",
    "#when image size give replce input_shape with img_width and img_height\n",
    "#classifier.add(Conv2D( 32,(3,3), input_shape=( img_width, img_height, 3 ), activation = 'relu'))\n",
    "#32  filter (feature detector) then 64 then 128 like that , 3 * 3 fetaure detector\n",
    "#input shape - forcet to fixed image -3D ALL colored 256,256, \n",
    "#because we useing cpu s0 64,64,3 "
   ]
  },
  {
   "cell_type": "code",
   "execution_count": 4,
   "metadata": {},
   "outputs": [],
   "source": [
    "classifier.add(MaxPooling2D(pool_size = (2,2)))"
   ]
  },
  {
   "cell_type": "code",
   "execution_count": 5,
   "metadata": {},
   "outputs": [],
   "source": [
    "# Adding a second convolutional layer\n",
    "classifier.add(Conv2D(32, (3, 3), activation = 'relu'))\n",
    "classifier.add(MaxPooling2D(pool_size = (2, 2)))"
   ]
  },
  {
   "cell_type": "code",
   "execution_count": 6,
   "metadata": {},
   "outputs": [],
   "source": [
    "classifier.add(Flatten())"
   ]
  },
  {
   "cell_type": "code",
   "execution_count": 7,
   "metadata": {},
   "outputs": [],
   "source": [
    "classifier.add(Dense(units = 128, activation='relu'))\n",
    "classifier.add(Dense(units = 1, activation='sigmoid'))"
   ]
  },
  {
   "cell_type": "code",
   "execution_count": 8,
   "metadata": {},
   "outputs": [],
   "source": [
    "classifier.compile(optimizer='adam', loss='binary_crossentropy', metrics=['accuracy'])"
   ]
  },
  {
   "cell_type": "code",
   "execution_count": 9,
   "metadata": {},
   "outputs": [
    {
     "name": "stdout",
     "output_type": "stream",
     "text": [
      "Found 994 images belonging to 2 classes.\n",
      "Found 252 images belonging to 2 classes.\n",
      "Epoch 1/10\n",
      "2000/2000 [==============================] - 1821s 911ms/step - loss: 0.2758 - acc: 0.8752 - val_loss: 1.1318 - val_acc: 0.7024\n",
      "Epoch 2/10\n",
      "2000/2000 [==============================] - 1817s 909ms/step - loss: 0.0337 - acc: 0.9893 - val_loss: 1.7043 - val_acc: 0.7262\n",
      "Epoch 3/10\n",
      "2000/2000 [==============================] - 1813s 906ms/step - loss: 0.0148 - acc: 0.9952 - val_loss: 2.3478 - val_acc: 0.7063\n",
      "Epoch 4/10\n",
      "2000/2000 [==============================] - 1806s 903ms/step - loss: 0.0243 - acc: 0.9920 - val_loss: 2.1062 - val_acc: 0.6905\n",
      "Epoch 5/10\n",
      "2000/2000 [==============================] - 1463s 731ms/step - loss: 0.0077 - acc: 0.9978 - val_loss: 1.9369 - val_acc: 0.7063\n",
      "Epoch 6/10\n",
      "2000/2000 [==============================] - 1024s 512ms/step - loss: 0.0153 - acc: 0.9953 - val_loss: 2.1513 - val_acc: 0.7024\n",
      "Epoch 7/10\n",
      "2000/2000 [==============================] - 1021s 511ms/step - loss: 0.0034 - acc: 0.9991 - val_loss: 1.9565 - val_acc: 0.7063\n",
      "Epoch 8/10\n",
      "2000/2000 [==============================] - 1025s 513ms/step - loss: 0.0110 - acc: 0.9970 - val_loss: 2.2793 - val_acc: 0.7222\n",
      "Epoch 9/10\n",
      "2000/2000 [==============================] - 1019s 510ms/step - loss: 0.0077 - acc: 0.9976 - val_loss: 2.4657 - val_acc: 0.6984\n",
      "Epoch 10/10\n",
      "2000/2000 [==============================] - 1023s 511ms/step - loss: 0.0038 - acc: 0.9989 - val_loss: 2.6658 - val_acc: 0.6984\n"
     ]
    },
    {
     "data": {
      "text/plain": [
       "<keras.callbacks.History at 0x7f311ad3b6a0>"
      ]
     },
     "execution_count": 9,
     "metadata": {},
     "output_type": "execute_result"
    }
   ],
   "source": [
    "#https://keras.io/preprocessing/image/\n",
    "from keras.preprocessing.image import  ImageDataGenerator\n",
    "\n",
    "train_datagen = ImageDataGenerator(\n",
    "        rescale=1./255,\n",
    "        shear_range=0.2,\n",
    "        zoom_range=0.2,\n",
    "        horizontal_flip=True)\n",
    "\n",
    "\n",
    "test_datagen = ImageDataGenerator(rescale=1./255)\n",
    "\n",
    "train_generator = train_datagen.flow_from_directory(\n",
    "        'humandata/humantrain',\n",
    "        #when the image perticular size given then use\n",
    "        #target_size=(img_width, img_height),\n",
    "        target_size=(64, 64),\n",
    "        batch_size=32,\n",
    "        class_mode='binary')\n",
    "\n",
    "validation_generator = test_datagen.flow_from_directory(\n",
    "        'humandata/humanvalidation',\n",
    "        #when the image perticular size given then use \n",
    "        #target_size=(img_width, img_height),\n",
    "        target_size=(64, 64),\n",
    "        batch_size=32,\n",
    "        class_mode='binary')\n",
    "\n",
    "classifier.fit_generator(train_generator,\n",
    "        #std steps_per_erpoch = 8000\n",
    "        steps_per_epoch=2000,\n",
    "        #std epochs = 25\n",
    "        epochs=10,\n",
    "        validation_data=validation_generator,\n",
    "        #std validation steps 2000\n",
    "        validation_steps=800)"
   ]
  },
  {
   "cell_type": "code",
   "execution_count": 36,
   "metadata": {},
   "outputs": [
    {
     "name": "stdout",
     "output_type": "stream",
     "text": [
      "Human\n"
     ]
    }
   ],
   "source": [
    "import numpy as np\n",
    "from keras.preprocessing import image\n",
    "test_image=image.load_img(\"humandata/testimg/applauding_028.jpg\",target_size=(64,64))\n",
    "test_image=image.img_to_array(test_image)\n",
    "test_image=np.expand_dims(test_image,axis=0)\n",
    "result=classifier.predict(test_image)\n",
    "trainig_set=classifier.predict(test_image)\n",
    "train_generator.class_indices\n",
    "if result[0][0]==1:\n",
    "    prediction='Not Human'\n",
    "    print(\"Not Human\")\n",
    "else:\n",
    "    prediction='Human'\n",
    "    print(\"Human\")"
   ]
  },
  {
   "cell_type": "code",
   "execution_count": 38,
   "metadata": {},
   "outputs": [
    {
     "name": "stdout",
     "output_type": "stream",
     "text": [
      "Not Human\n"
     ]
    }
   ],
   "source": [
    "import numpy as np\n",
    "from keras.preprocessing import image\n",
    "test_image=image.load_img(\"humandata/testimg/69020950.jpg\",target_size=(64,64))\n",
    "test_image=image.img_to_array(test_image)\n",
    "test_image=np.expand_dims(test_image,axis=0)\n",
    "result=classifier.predict(test_image)\n",
    "trainig_set=classifier.predict(test_image)\n",
    "train_generator.class_indices\n",
    "if result[0][0]==1:\n",
    "    prediction='Not Human'\n",
    "    print(\"Not Human\")\n",
    "else:\n",
    "    prediction='Human'\n",
    "    print(\"Human\")"
   ]
  }
 ],
 "metadata": {
  "kernelspec": {
   "display_name": "Python 3",
   "language": "python",
   "name": "python3"
  },
  "language_info": {
   "codemirror_mode": {
    "name": "ipython",
    "version": 3
   },
   "file_extension": ".py",
   "mimetype": "text/x-python",
   "name": "python",
   "nbconvert_exporter": "python",
   "pygments_lexer": "ipython3",
   "version": "3.6.8"
  }
 },
 "nbformat": 4,
 "nbformat_minor": 2
}
